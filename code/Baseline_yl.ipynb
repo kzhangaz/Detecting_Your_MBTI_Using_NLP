{
 "cells": [
  {
   "cell_type": "code",
   "execution_count": 1,
   "metadata": {},
   "outputs": [
    {
     "name": "stderr",
     "output_type": "stream",
     "text": [
      "/var/folders/6z/y6wbv5113jgfdk37zghsbl6h0000gn/T/ipykernel_68460/952058001.py:1: DeprecationWarning: \n",
      "Pyarrow will become a required dependency of pandas in the next major release of pandas (pandas 3.0),\n",
      "(to allow more performant data types, such as the Arrow string type, and better interoperability with other libraries)\n",
      "but was not found to be installed on your system.\n",
      "If this would cause problems for you,\n",
      "please provide us feedback at https://github.com/pandas-dev/pandas/issues/54466\n",
      "        \n",
      "  import pandas as pd\n"
     ]
    }
   ],
   "source": [
    "import pandas as pd\n",
    "import numpy as np\n",
    "import tensorflow as tf\n",
    "from tensorflow.keras.preprocessing.text import Tokenizer\n",
    "from tensorflow.keras.preprocessing.sequence import pad_sequences\n",
    "from tensorflow.keras.models import Sequential\n",
    "from tensorflow.keras.layers import Embedding, Conv1D, MaxPooling1D, GlobalMaxPooling1D, Dense\n",
    "from sklearn.model_selection import train_test_split\n",
    "from sklearn.preprocessing import LabelEncoder"
   ]
  },
  {
   "cell_type": "code",
   "execution_count": 2,
   "metadata": {},
   "outputs": [
    {
     "data": {
      "text/plain": [
       "(8675, 79874)"
      ]
     },
     "execution_count": 2,
     "metadata": {},
     "output_type": "execute_result"
    }
   ],
   "source": [
    "tfidf_matrix = np.load('../data/tfidf_matrix.npy')\n",
    "tfidf_matrix.shape\n",
    "\n"
   ]
  },
  {
   "cell_type": "code",
   "execution_count": 3,
   "metadata": {},
   "outputs": [
    {
     "data": {
      "text/plain": [
       "array([[[0.],\n",
       "        [0.],\n",
       "        [0.],\n",
       "        ...,\n",
       "        [0.],\n",
       "        [0.],\n",
       "        [0.]],\n",
       "\n",
       "       [[0.],\n",
       "        [0.],\n",
       "        [0.],\n",
       "        ...,\n",
       "        [0.],\n",
       "        [0.],\n",
       "        [0.]],\n",
       "\n",
       "       [[0.],\n",
       "        [0.],\n",
       "        [0.],\n",
       "        ...,\n",
       "        [0.],\n",
       "        [0.],\n",
       "        [0.]],\n",
       "\n",
       "       ...,\n",
       "\n",
       "       [[0.],\n",
       "        [0.],\n",
       "        [0.],\n",
       "        ...,\n",
       "        [0.],\n",
       "        [0.],\n",
       "        [0.]],\n",
       "\n",
       "       [[0.],\n",
       "        [0.],\n",
       "        [0.],\n",
       "        ...,\n",
       "        [0.],\n",
       "        [0.],\n",
       "        [0.]],\n",
       "\n",
       "       [[0.],\n",
       "        [0.],\n",
       "        [0.],\n",
       "        ...,\n",
       "        [0.],\n",
       "        [0.],\n",
       "        [0.]]])"
      ]
     },
     "execution_count": 3,
     "metadata": {},
     "output_type": "execute_result"
    }
   ],
   "source": [
    "tfidf_matrix.reshape(tfidf_matrix.shape[0], tfidf_matrix.shape[1], 1)"
   ]
  },
  {
   "cell_type": "code",
   "execution_count": 6,
   "metadata": {},
   "outputs": [
    {
     "data": {
      "text/html": [
       "<div>\n",
       "<style scoped>\n",
       "    .dataframe tbody tr th:only-of-type {\n",
       "        vertical-align: middle;\n",
       "    }\n",
       "\n",
       "    .dataframe tbody tr th {\n",
       "        vertical-align: top;\n",
       "    }\n",
       "\n",
       "    .dataframe thead th {\n",
       "        text-align: right;\n",
       "    }\n",
       "</style>\n",
       "<table border=\"1\" class=\"dataframe\">\n",
       "  <thead>\n",
       "    <tr style=\"text-align: right;\">\n",
       "      <th></th>\n",
       "      <th>I/E</th>\n",
       "      <th>N/S</th>\n",
       "      <th>F/T</th>\n",
       "      <th>P/J</th>\n",
       "    </tr>\n",
       "  </thead>\n",
       "  <tbody>\n",
       "    <tr>\n",
       "      <th>0</th>\n",
       "      <td>0</td>\n",
       "      <td>0</td>\n",
       "      <td>0</td>\n",
       "      <td>1</td>\n",
       "    </tr>\n",
       "    <tr>\n",
       "      <th>1</th>\n",
       "      <td>1</td>\n",
       "      <td>0</td>\n",
       "      <td>1</td>\n",
       "      <td>0</td>\n",
       "    </tr>\n",
       "    <tr>\n",
       "      <th>2</th>\n",
       "      <td>0</td>\n",
       "      <td>0</td>\n",
       "      <td>1</td>\n",
       "      <td>0</td>\n",
       "    </tr>\n",
       "    <tr>\n",
       "      <th>3</th>\n",
       "      <td>0</td>\n",
       "      <td>0</td>\n",
       "      <td>1</td>\n",
       "      <td>1</td>\n",
       "    </tr>\n",
       "    <tr>\n",
       "      <th>4</th>\n",
       "      <td>1</td>\n",
       "      <td>0</td>\n",
       "      <td>1</td>\n",
       "      <td>1</td>\n",
       "    </tr>\n",
       "  </tbody>\n",
       "</table>\n",
       "</div>"
      ],
      "text/plain": [
       "   I/E  N/S  F/T  P/J\n",
       "0    0    0    0    1\n",
       "1    1    0    1    0\n",
       "2    0    0    1    0\n",
       "3    0    0    1    1\n",
       "4    1    0    1    1"
      ]
     },
     "execution_count": 6,
     "metadata": {},
     "output_type": "execute_result"
    }
   ],
   "source": [
    "y_train = pd.read_csv('../data/four_cat.csv',)\n",
    "y_train = y_train[['I/E', 'N/S','F/T','P/J']]\n",
    "y_train.values\n",
    "y_matrix = y_train.values\n",
    "y_train.head()\n",
    "#X_train, X_test, y_train, y_test = train_test_split(padded, labels, test_size=0.2, random_state=42)"
   ]
  },
  {
   "cell_type": "code",
   "execution_count": 9,
   "metadata": {},
   "outputs": [],
   "source": [
    "\"\"\"\n",
    "Here we produce our baseline model based on the structure of the CNN approach in the paper.\n",
    "Multilabel classification was used: 4 binary classifiers. \n",
    "Output layer consisted of 4 neurons with a sigmoid activation function. \n",
    "1D convolution of word embeddings were created and fed as input to the neural network. \n",
    "The neural network consisted of a max pooling layer and a dense layer, a sigmoid layer for obtaining multilabel classification results of the 4 binary classifiers.\n",
    "\"\"\"\n",
    "model = Sequential([\n",
    "    #Embedding(vocab_size, embedding_dim, input_length=max_length),\n",
    "    #Conv1D(4, 3, activation='relu'),  # Smaller filter and fewer filters\n",
    "    # MaxPooling1D(3),  # Increased pooling size\n",
    "    # GlobalMaxPooling1D(),\n",
    "    Dense(16, activation='relu'),  # Reduced number of neurons\n",
    "    Dense(4, activation='sigmoid')  # Output layer for four binary classifications\n",
    "])\n",
    "\n",
    "# Compile with a possibly different learning rate\n",
    "optimizer = tf.keras.optimizers.Adam(learning_rate=0.001)\n",
    "model.compile(optimizer=optimizer, loss='binary_crossentropy', metrics=['binary_accuracy'])"
   ]
  },
  {
   "cell_type": "code",
   "execution_count": 10,
   "metadata": {},
   "outputs": [
    {
     "name": "stdout",
     "output_type": "stream",
     "text": [
      "Epoch 1/10\n",
      "272/272 [==============================] - 2s 6ms/step - loss: 0.5787 - binary_accuracy: 0.7032\n",
      "Epoch 2/10\n",
      "272/272 [==============================] - 2s 6ms/step - loss: 0.4992 - binary_accuracy: 0.7755\n",
      "Epoch 3/10\n",
      "272/272 [==============================] - 2s 7ms/step - loss: 0.4014 - binary_accuracy: 0.8366\n",
      "Epoch 4/10\n",
      "272/272 [==============================] - 2s 6ms/step - loss: 0.3042 - binary_accuracy: 0.8919\n",
      "Epoch 5/10\n",
      "272/272 [==============================] - 2s 6ms/step - loss: 0.2242 - binary_accuracy: 0.9389\n",
      "Epoch 6/10\n",
      "272/272 [==============================] - 2s 7ms/step - loss: 0.1645 - binary_accuracy: 0.9679\n",
      "Epoch 7/10\n",
      "272/272 [==============================] - 2s 6ms/step - loss: 0.1212 - binary_accuracy: 0.9833\n",
      "Epoch 8/10\n",
      "272/272 [==============================] - 2s 6ms/step - loss: 0.0897 - binary_accuracy: 0.9905\n",
      "Epoch 9/10\n",
      "272/272 [==============================] - 2s 7ms/step - loss: 0.0670 - binary_accuracy: 0.9955\n",
      "Epoch 10/10\n",
      "272/272 [==============================] - 2s 7ms/step - loss: 0.0505 - binary_accuracy: 0.9977\n"
     ]
    }
   ],
   "source": [
    "num_epochs = 10\n",
    "# Train the Model\n",
    "history = model.fit(tfidf_matrix, y_matrix, epochs=num_epochs)"
   ]
  },
  {
   "cell_type": "code",
   "execution_count": null,
   "metadata": {},
   "outputs": [],
   "source": [
    "input_layer = Input(shape=(len(train .columns),))\n",
    "first_dense = Dense(units='128', activation='relu')(input_layer)\n",
    "second_dense = Dense(units='128', activation='relu')(first_dense)\n",
    "\n",
    "y1_output = Dense(units='1', name='y1_output')(second_dense)\n",
    "third_dense = Dense(units='64', activation='relu')(second_dense)\n",
    "\n",
    "y2_output = Dense(units='1', name='y2_output')(third_dense)\n",
    "\n",
    "model = Model(inputs=input_layer, outputs=[y1_output, y2_output])\n",
    "\n",
    "print(model.summary())"
   ]
  },
  {
   "cell_type": "code",
   "execution_count": 41,
   "metadata": {},
   "outputs": [
    {
     "name": "stdout",
     "output_type": "stream",
     "text": [
      "1/1 [==============================] - 0s 15ms/step - loss: 0.7478 - auc_2: 0.0000e+00\n",
      "Test loss 0.7478247880935669\n",
      "Test accuracy: 0.0\n"
     ]
    }
   ],
   "source": [
    "test_loss, test_accuracy = model.evaluate(X_test, y_test)\n",
    "print(\"Test loss\", test_loss)\n",
    "print(\"Test accuracy:\", test_accuracy)"
   ]
  }
 ],
 "metadata": {
  "kernelspec": {
   "display_name": "Python 3.10.13 ('csci1470')",
   "language": "python",
   "name": "python3"
  },
  "language_info": {
   "codemirror_mode": {
    "name": "ipython",
    "version": 3
   },
   "file_extension": ".py",
   "mimetype": "text/x-python",
   "name": "python",
   "nbconvert_exporter": "python",
   "pygments_lexer": "ipython3",
   "version": "3.10.13"
  },
  "orig_nbformat": 4,
  "vscode": {
   "interpreter": {
    "hash": "37ddd90401f1d77a01b8a047b2f4a1e6caea817e7c262c0d72d1b8dd241ceef0"
   }
  }
 },
 "nbformat": 4,
 "nbformat_minor": 2
}
