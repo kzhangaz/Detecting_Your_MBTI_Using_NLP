{
 "cells": [
  {
   "cell_type": "code",
   "execution_count": null,
   "metadata": {},
   "outputs": [],
   "source": [
    "import pandas as pd\n",
    "from sklearn.feature_extraction.text import TfidfVectorizer\n",
    "from gensim.models import Word2Vec\n",
    "import nltk\n",
    "from nltk.corpus import stopwords\n",
    "from nltk.stem import WordNetLemmatizer\n",
    "from nltk.tokenize import word_tokenize\n",
    "import re\n",
    "\n",
    "# Make sure to download these resources if you haven't already\n",
    "nltk.download('punkt')\n",
    "nltk.download('stopwords')\n",
    "nltk.download('wordnet')\n",
    "\n",
    "df = pd.read_csv('data/mbti_1.csv')\n",
    "\n",
    "\n",
    "# Text preprocessing function\n",
    "def preprocess(text):\n",
    "    text = re.sub(r'http\\S+', '', text)  # Removes URLs that start with http\n",
    "    text = re.sub(r'www\\S+', '', text)   # Removes URLs that start with www\n",
    "\n",
    "    text = text.lower()  # Lowercase\n",
    "    tokens = word_tokenize(text)  # Tokenize\n",
    "    lemmatizer = WordNetLemmatizer()\n",
    "    tokens = [lemmatizer.lemmatize(token) for token in tokens if token.isalpha() and token not in stopwords.words('english')]\n",
    "    return tokens\n",
    "\n",
    "# Apply preprocessing\n",
    "df['processed_posts'] = df['posts'].apply(preprocess)\n",
    "\n",
    "# TF-IDF\n",
    "tfidf_vectorizer = TfidfVectorizer(tokenizer=lambda x: x, lowercase=False)\n",
    "tfidf_matrix = tfidf_vectorizer.fit_transform(df['processed_posts']).toarray()\n",
    "tfidf_feature_names = tfidf_vectorizer.get_feature_names_out()\n",
    "\n",
    "# Word2Vec\n",
    "word2vec_model = Word2Vec(sentences=df['processed_posts'], vector_size=100, window=5, min_count=1, workers=4)\n",
    "word2vec_model.train(df['processed_posts'], total_examples=word2vec_model.corpus_count, epochs=10)\n",
    "\n",
    "# Example: Get the vector for a word\n",
    "word_vector = word2vec_model.wv['climate']  # Get the vector for the word \"climate\"\n",
    "\n",
    "# Show TF-IDF result\n",
    "print(\"TF-IDF Matrix Shape:\", tfidf_matrix.shape)\n",
    "print(\"TF-IDF Feature Names:\", tfidf_feature_names)\n",
    "\n",
    "# Example output from Word2Vec\n",
    "print(\"Word Vector for 'climate':\", word_vector)"
   ]
  }
 ],
 "metadata": {
  "language_info": {
   "name": "python"
  }
 },
 "nbformat": 4,
 "nbformat_minor": 2
}
